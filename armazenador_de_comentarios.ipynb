{
 "cells": [
  {
   "cell_type": "code",
   "execution_count": 1,
   "metadata": {},
   "outputs": [],
   "source": [
    "import pandas as pd\n",
    "import pickle\n",
    "import json\n",
    "import os\n",
    "import google.oauth2.credentials\n",
    "import googleapiclient.discovery\n",
    "\n",
    "from googleapiclient.discovery import build\n",
    "from googleapiclient.errors import HttpError\n",
    "from google_auth_oauthlib.flow import InstalledAppFlow\n",
    "from google.auth.transport.requests import Request\n",
    "\n",
    " \n",
    "# The CLIENT_SECRETS_FILE variable specifies the name of a file that contains\n",
    "# the OAuth 2.0 information for this application, including its client_id and\n",
    "# client_secret.\n",
    "CLIENT_SECRETS_FILE = \"client_secret.json\"\n",
    " \n",
    "# This OAuth 2.0 access scope allows for full read/write access to the\n",
    "# authenticated user's account and requires requests to use an SSL connection.\n",
    "SCOPES = ['https://www.googleapis.com/auth/youtube.force-ssl']\n",
    "API_SERVICE_NAME = 'youtube'\n",
    "API_VERSION = 'v3'"
   ]
  },
  {
   "cell_type": "code",
   "execution_count": 2,
   "metadata": {},
   "outputs": [],
   "source": [
    "def get_authenticated_service():\n",
    "    credentials = None\n",
    "    if os.path.exists('token.pickle'):\n",
    "        with open('token.pickle', 'rb') as token:\n",
    "            credentials = pickle.load(token)\n",
    "    #  Check if the credentials are invalid or do not exist\n",
    "    if not credentials or not credentials.valid:\n",
    "        # Check if the credentials have expired\n",
    "        if credentials and credentials.expired and credentials.refresh_token:\n",
    "            credentials.refresh(Request())\n",
    "        else:\n",
    "            flow = InstalledAppFlow.from_client_secrets_file(\n",
    "                CLIENT_SECRETS_FILE, SCOPES)\n",
    "            credentials = flow.run_console()\n",
    " \n",
    "        # Save the credentials for the next run\n",
    "        with open('token.pickle', 'wb') as token:\n",
    "            pickle.dump(credentials, token)\n",
    " \n",
    "    return build(API_SERVICE_NAME, API_VERSION, credentials = credentials)"
   ]
  },
  {
   "cell_type": "code",
   "execution_count": 3,
   "metadata": {},
   "outputs": [],
   "source": [
    "def write_csv(comments):\n",
    "    df = pd.DataFrame(comments)\n",
    "    df.columns = [\"Comments\"]\n",
    "    print(df)\n",
    "    df.to_csv(\"Comments.csv\", encoding='utf-8', index=False)"
   ]
  },
  {
   "cell_type": "code",
   "execution_count": 4,
   "metadata": {},
   "outputs": [],
   "source": [
    "def get_video_id(service, url,limit):\n",
    "    id = url.split(\"v=\")[1]\n",
    "    video_id = id.split(\"&\")[0]\n",
    "    \n",
    "    get_video_comments(service,limit, part=\"snippet\",\n",
    "                                maxResults=100,\n",
    "                                order=\"time\",\n",
    "                                textFormat=\"plainText\",\n",
    "                                videoId=video_id)"
   ]
  },
  {
   "cell_type": "code",
   "execution_count": 17,
   "metadata": {},
   "outputs": [],
   "source": [
    "def get_video_comments(service, limit, **kwargs):\n",
    "    comments = set()\n",
    "    \n",
    "    request = service.commentThreads().list(**kwargs)\n",
    "    response = request.execute()\n",
    "    try:\n",
    "        while(response[\"nextPageToken\"]):\n",
    "            print(response[\"nextPageToken\"])\n",
    "\n",
    "            for item in response['items']:\n",
    "                comment = item['snippet']['topLevelComment']['snippet']['textDisplay']\n",
    "                comments.add(comment)\n",
    "                if(len(comments)>=limit):\n",
    "                    return write_csv(comments)\n",
    "            try:\n",
    "                request = service.commentThreads().list(**kwargs,pageToken=response[\"nextPageToken\"])\n",
    "                response = request.execute()\n",
    "            except HttpError:\n",
    "                os.environ['OAUTHLIB_INSECURE_TRANSPORT'] = '1'\n",
    "                service = get_authenticated_service()\n",
    "            \n",
    "    except KeyError or KeyboardInterrupt:\n",
    "        return write_csv(comments)"
   ]
  },
  {
   "cell_type": "code",
   "execution_count": null,
   "metadata": {},
   "outputs": [],
   "source": [
    "if __name__ == \"__main__\":\n",
    "    # When running locally, disable OAuthlib's HTTPs verification. When\n",
    "    # running in production *do not* leave this option enabled.\n",
    "\n",
    "    os.environ['OAUTHLIB_INSECURE_TRANSPORT'] = '1'\n",
    "    service = get_authenticated_service()\n",
    "\n",
    "#     url = input(\"Enter video link: \")\n",
    "    url = \"https://www.youtube.com/watch?v=uoxtAXN2tnI\"\n",
    "    \n",
    "    max_comments = int(input(\"How many comments approximately do you want ? (NUMBER): \"))\n",
    "\n",
    "    get_video_id(service,url,max_comments)"
   ]
  }
 ],
 "metadata": {
  "kernelspec": {
   "display_name": "Python 3",
   "language": "python",
   "name": "python3"
  },
  "language_info": {
   "codemirror_mode": {
    "name": "ipython",
    "version": 3
   },
   "file_extension": ".py",
   "mimetype": "text/x-python",
   "name": "python",
   "nbconvert_exporter": "python",
   "pygments_lexer": "ipython3",
   "version": "3.7.4"
  }
 },
 "nbformat": 4,
 "nbformat_minor": 2
}
